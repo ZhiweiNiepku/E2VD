{
  "cells": [
    {
      "cell_type": "markdown",
      "metadata": {
        "id": "CkhDrcwcn8xj"
      },
      "source": [
        "## Evolution Demo for E2VD\n",
        "\n",
        "Use the trained model to predict key properties, and screen the single-site mutation sequences to find potential high-risk sites. We take BA.5 lineage as an example."
      ]
    },
    {
      "cell_type": "markdown",
      "metadata": {
        "id": "7r_OVgEoH4eT"
      },
      "source": [
        "Clone the github repo"
      ]
    },
    {
      "cell_type": "code",
      "execution_count": null,
      "metadata": {
        "id": "xA9hTwrOn7Tb"
      },
      "outputs": [],
      "source": [
        "!git clone https://github.com/ZhiweiNiepku/E2VD.git"
      ]
    },
    {
      "cell_type": "markdown",
      "metadata": {
        "id": "yi2xcQ_5ICgQ"
      },
      "source": [
        "Draw risk sites with matplotlib, and output BA5_data.csv for R script."
      ]
    },
    {
      "cell_type": "code",
      "execution_count": 9,
      "metadata": {
        "id": "406z_Z1QoXSc"
      },
      "outputs": [],
      "source": [
        "!python figure_reproduction/perceive_evolutionary_trends/create_draw_predict_data.py"
      ]
    },
    {
      "cell_type": "markdown",
      "metadata": {
        "id": "aLUQzzNOIJT-"
      },
      "source": [
        "Calculate AUROC score, and draw ROC curve."
      ]
    },
    {
      "cell_type": "code",
      "execution_count": null,
      "metadata": {
        "colab": {
          "base_uri": "https://localhost:8080/"
        },
        "id": "j3yAF9IJpBsP",
        "outputId": "3df218f9-b6c7-4324-b327-8c22ac7e0002"
      },
      "outputs": [],
      "source": [
        "!python perceive_evolutionary_trends/calculate_ROC/AUROC.py"
      ]
    }
  ],
  "metadata": {
    "colab": {
      "provenance": []
    },
    "kernelspec": {
      "display_name": "Python 3",
      "name": "python3"
    },
    "language_info": {
      "name": "python"
    }
  },
  "nbformat": 4,
  "nbformat_minor": 0
}

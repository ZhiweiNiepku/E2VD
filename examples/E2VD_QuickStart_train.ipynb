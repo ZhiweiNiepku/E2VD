{
  "cells": [
    {
      "cell_type": "markdown",
      "metadata": {
        "id": "CkhDrcwcn8xj"
      },
      "source": [
        "## Quick Start for E2VD\n",
        "\n",
        "Use the single-site mutation benchmark to train binding affinity prediction model."
      ]
    },
    {
      "cell_type": "markdown",
      "metadata": {
        "id": "7r_OVgEoH4eT"
      },
      "source": [
        "Clone the github repo"
      ]
    },
    {
      "cell_type": "code",
      "execution_count": null,
      "metadata": {
        "id": "xA9hTwrOn7Tb"
      },
      "outputs": [],
      "source": [
        "!git clone https://github.com/ZhiweiNiepku/E2VD.git"
      ]
    },
    {
      "cell_type": "markdown",
      "metadata": {
        "id": "jJUWGGHOH8Su"
      },
      "source": [
        "Install all the dependencies"
      ]
    },
    {
      "cell_type": "code",
      "execution_count": null,
      "metadata": {
        "id": "fCHJnj4FnuyH"
      },
      "outputs": [],
      "source": [
        "# install dependencies\n",
        "!pip install torch==1.11.0+cu113 torchvision==0.12.0+cu113 torchaudio==0.11.0 --extra-index-url https://download.pytorch.org/whl/cu113\n",
        "!pip install -r E2VD/requirements.txt\n",
        "#!pip install numpy --upgrade"
      ]
    },
    {
      "cell_type": "markdown",
      "metadata": {
        "id": "yi2xcQ_5ICgQ"
      },
      "source": [
        "Download QuickStart.tar.gz"
      ]
    },
    {
      "cell_type": "code",
      "execution_count": 9,
      "metadata": {
        "id": "406z_Z1QoXSc"
      },
      "outputs": [],
      "source": [
        "!cd E2VD/demo_bind/data/ && wget --no-check-certificate https://figshare.com/ndownloader/files/46588753 -O QuickStart.zip && unzip QuickStart.zip"
      ]
    },
    {
      "cell_type": "markdown",
      "metadata": {
        "id": "aLUQzzNOIJT-"
      },
      "source": [
        "Run training\n",
        "\n",
        "Note that if a numpy related error occured, try running `pip install numpy --upgrade` using command line. If a cuda related error occured, change the `device` used in `bind_train_5fold.py` to `cpu`."
      ]
    },
    {
      "cell_type": "code",
      "execution_count": null,
      "metadata": {
        "colab": {
          "base_uri": "https://localhost:8080/"
        },
        "id": "j3yAF9IJpBsP",
        "outputId": "3df218f9-b6c7-4324-b327-8c22ac7e0002"
      },
      "outputs": [],
      "source": [
        "!cd E2VD/demo_bind/ && python bind_train_5fold.py"
      ]
    },
    {
      "cell_type": "code",
      "execution_count": null,
      "metadata": {
        "id": "TNY7pwJvuLO_"
      },
      "outputs": [],
      "source": []
    }
  ],
  "metadata": {
    "colab": {
      "provenance": []
    },
    "kernelspec": {
      "display_name": "Python 3",
      "name": "python3"
    },
    "language_info": {
      "name": "python"
    }
  },
  "nbformat": 4,
  "nbformat_minor": 0
}
